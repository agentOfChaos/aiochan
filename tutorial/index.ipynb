{
 "cells": [
  {
   "cell_type": "markdown",
   "metadata": {},
   "source": [
    "# An introduction to CSP-style concurrency with _aiochan_"
   ]
  },
  {
   "cell_type": "markdown",
   "metadata": {},
   "source": [
    "## Intro"
   ]
  },
  {
   "cell_type": "markdown",
   "metadata": {},
   "source": [
    "* Why do you want concurrent programs\n",
    "    * dealing with multiple things at once (at least logically)\n",
    "    * potential to decrease latency, increase throughput\n",
    "    * potential to make your logic much cleaner (but also much messier if you do it wrong)\n",
    "    * concurrency is not parallelism (but enables it)"
   ]
  },
  {
   "cell_type": "markdown",
   "metadata": {},
   "source": [
    "* What is CSP\n",
    "    * Processes: something that computes, a delineated group of code that runs\n",
    "    * Sequential: statements or expressions that execute or evaluate in sequence, or at least in a deterministic order\n",
    "    * Communicating: IO is done only by explicitly passing stuff around -- no locks or critical region or what not"
   ]
  },
  {
   "cell_type": "markdown",
   "metadata": {},
   "source": [
    "## Basic operations"
   ]
  },
  {
   "cell_type": "markdown",
   "metadata": {},
   "source": [
    "* The sad reality of concurrency in python\n",
    "    * Not initially designed for concurrency\n",
    "    * When you start python, you are not in a situation where you can execute concurrent instructions directly\n",
    "    * Explicitly delaring concurrent environment: processes, threads, asyncio loop\n",
    "    * How we can keep things as simple as possible now\n",
    "    * examples: concurrent programs (but non-communicating)"
   ]
  },
  {
   "cell_type": "markdown",
   "metadata": {},
   "source": [
    "* The basic IO device: channel\n",
    "    * channel IS the IO device for CSP\n",
    "    * get and put\n",
    "    * fan-in and fan-out\n",
    "    * passing channels around"
   ]
  },
  {
   "cell_type": "markdown",
   "metadata": {},
   "source": [
    "* The paramount `select`\n",
    "    * non-determinism or choice\n",
    "    * example: stopping\n",
    "    * `select` is non-trivial\n",
    "        * Java was designed with threads in mind, but needs java.util.concurrent as a library\n",
    "        * Clojure was designed with concurrency in mind, has all the java primitives and libraries to use, has its additional (primitive) refs (atoms, agents, event stm (software transactional memory)), but _still_ needs core.async as a library\n",
    "        * You can say that the whole core.async is very much built to enable `select` (called `alt!`, `alts!`, `alt!!`, `alts!!` there)"
   ]
  },
  {
   "cell_type": "markdown",
   "metadata": {},
   "source": [
    "* Understanding channel buffering\n",
    "    * why buffer: even more concurrency, even more control\n",
    "    * the basics: fixed buffer, dropping buffer, sliding buffer\n",
    "    * channel and locks and semaphores"
   ]
  },
  {
   "cell_type": "markdown",
   "metadata": {},
   "source": [
    "## Writing concurrent programs"
   ]
  },
  {
   "cell_type": "markdown",
   "metadata": {},
   "source": [
    "* primitives, combinations, abstractions\n",
    "    * primitives: channels\n",
    "    * combinations: `put`, `get`, `select`\n",
    "    * abstractions: \"megachannels\", something in, something out"
   ]
  },
  {
   "cell_type": "markdown",
   "metadata": {},
   "source": [
    "* creating channels\n",
    "    "
   ]
  },
  {
   "cell_type": "markdown",
   "metadata": {},
   "source": [
    "* combining for dataflow\n",
    "    "
   ]
  },
  {
   "cell_type": "markdown",
   "metadata": {},
   "source": [
    "* Timing, backpressure, reactive programming"
   ]
  },
  {
   "cell_type": "markdown",
   "metadata": {},
   "source": [
    "## Parallelism, non-concurrent programs"
   ]
  },
  {
   "cell_type": "markdown",
   "metadata": {},
   "source": [
    "* The various forms of pipe"
   ]
  },
  {
   "cell_type": "markdown",
   "metadata": {},
   "source": [
    "* How to get data in and out, from non-concurrent programs"
   ]
  }
 ],
 "metadata": {
  "kernelspec": {
   "display_name": "Python 3",
   "language": "python",
   "name": "python3"
  },
  "language_info": {
   "codemirror_mode": {
    "name": "ipython",
    "version": 3
   },
   "file_extension": ".py",
   "mimetype": "text/x-python",
   "name": "python",
   "nbconvert_exporter": "python",
   "pygments_lexer": "ipython3",
   "version": "3.6.5"
  }
 },
 "nbformat": 4,
 "nbformat_minor": 2
}
