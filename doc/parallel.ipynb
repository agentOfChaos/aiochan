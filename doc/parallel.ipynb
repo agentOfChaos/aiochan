{
 "cells": [
  {
   "cell_type": "code",
   "execution_count": 1,
   "metadata": {
    "nbsphinx": "hidden"
   },
   "outputs": [],
   "source": [
    "import sys\n",
    "sys.path.append('../')\n",
    "\n",
    "# import os\n",
    "# os.environ['PYTHONASYNCIODEBUG'] = '1'"
   ]
  },
  {
   "cell_type": "markdown",
   "metadata": {},
   "source": [
    "# Parallelism and beyond"
   ]
  },
  {
   "cell_type": "markdown",
   "metadata": {},
   "source": [
    "## Facing the reality of python concurrency, again"
   ]
  },
  {
   "cell_type": "markdown",
   "metadata": {},
   "source": [
    "## More piping operators"
   ]
  },
  {
   "cell_type": "markdown",
   "metadata": {},
   "source": [
    "## aiochan without asyncio"
   ]
  },
  {
   "cell_type": "code",
   "execution_count": 2,
   "metadata": {},
   "outputs": [
    {
     "name": "stdout",
     "output_type": "stream",
     "text": [
      "p0 produces p0-0\n",
      "p0 produces p0-1\n",
      "p0 produces p0-2\n",
      "p0 produces p0-3\n",
      "p1 produces p1-0\n",
      "p2 produces p2-0\n",
      "c0 received p0-0\n",
      "c0 received p0-3\n",
      "c0 received p1-0\n",
      "c0 received p2-0\n",
      "c1 received p0-1\n",
      "c2 received p0-2\n",
      "p0 produces p0-4\n",
      "p1 produces p1-1\n",
      "p1 produces p1-2\n",
      "p1 produces p1-3\n",
      "p2 produces p2-1\n",
      "c0 received p0-4\n",
      "c0 received p1-3\n",
      "c0 received p2-1\n",
      "c1 received p1-1\n",
      "c2 received p1-2\n",
      "p1 produces p1-4\n",
      "p2 produces p2-2\n",
      "p2 produces p2-3\n",
      "p2 produces p2-4\n",
      "c0 received p1-4\n",
      "c0 received p2-4\n",
      "c1 received p2-2\n",
      "c2 received p2-3\n"
     ]
    }
   ],
   "source": [
    "import aiochan as ac\n",
    "import asyncio\n",
    "\n",
    "async def consumer(c, tag):\n",
    "    async for v in c:\n",
    "        print('%s received %s' % (tag, v))\n",
    "        \n",
    "async def producer(c, tag):\n",
    "    for i in range(5):\n",
    "        v = '%s-%s' % (tag, i)\n",
    "        print('%s produces %s' % (tag, v))\n",
    "        await c.put(v)\n",
    "        \n",
    "async def main():\n",
    "    c = ac.Chan()\n",
    "    for i in range(3):\n",
    "        ac.go(consumer(c, 'c' + str(i)))\n",
    "    for i in range(3):\n",
    "        ac.go(producer(c, 'p' + str(i)))\n",
    "    await asyncio.sleep(0.1)\n",
    "\n",
    "ac.run(main())"
   ]
  },
  {
   "cell_type": "code",
   "execution_count": 3,
   "metadata": {},
   "outputs": [
    {
     "name": "stdout",
     "output_type": "stream",
     "text": [
      "c0 received p0-0\n",
      "p0 produces p0-0\n",
      "c1 received p0-1\n",
      "p0 produces p0-1\n",
      "c2 received p0-2\n",
      "p0 produces p0-2\n",
      "c0 received p0-3\n",
      "p0 produces p0-3\n",
      "c1 received p0-4\n",
      "c2 received p1-0\n",
      "p1 produces p1-0\n",
      "c0 received p1-1\n",
      "p1 produces p1-1\n",
      "c1 received p1-2\n",
      "p1 produces p1-2\n",
      "c2 received p1-3\n",
      "p1 produces p1-3\n",
      "c0 received p1-4\n",
      "c1 received p2-0\n",
      "p2 produces p2-0\n",
      "c2 received p2-1\n",
      "p2 produces p2-1\n",
      "c0 received p2-2\n",
      "p2 produces p2-2\n",
      "c1 received p2-3\n",
      "p2 produces p2-3\n",
      "c2 received p2-4\n"
     ]
    }
   ],
   "source": [
    "def consumer(c, tag):\n",
    "    def cb(v):\n",
    "        if v is not None:\n",
    "            print('%s received %s' % (tag, v))\n",
    "            consumer(c, tag)\n",
    "    c.get_nowait(immediate_only=False, cb=cb)\n",
    "\n",
    "def producer(c, tag, i=0):\n",
    "    v = '%s-%s' % (tag, i)\n",
    "    def cb(ok):\n",
    "        if ok and i < 4:\n",
    "            print('%s produces %s' % (tag, v))\n",
    "            producer(c, tag, i+1)\n",
    "    \n",
    "    c.put_nowait(v, immediate_only=False, cb=cb)\n",
    "    \n",
    "def main():\n",
    "    c = ac.Chan(loop='no_loop')\n",
    "    for i in range(3):\n",
    "        consumer(c, 'c' + str(i))\n",
    "    for i in range(3):\n",
    "        producer(c, 'p' + str(i))\n",
    "        \n",
    "main()"
   ]
  },
  {
   "cell_type": "code",
   "execution_count": 4,
   "metadata": {},
   "outputs": [
    {
     "name": "stdout",
     "output_type": "stream",
     "text": [
      "select put into Chan<c 140329680924288>, get value 1\n",
      "select put into Chan<c 140329680924288>, get value 1\n",
      "select put into Chan<c 140329680924288>, get value 1\n",
      "select put into Chan<d 140329680923768>, get value 2\n",
      "select put into Chan<d 140329680924288>, get value 2\n",
      "select put into Chan<c 140329680924288>, get value 1\n",
      "select put into Chan<d 140329672134936>, get value 2\n",
      "select put into Chan<c 140329680924288>, get value 1\n",
      "select put into Chan<c 140329680924288>, get value 1\n",
      "select put into Chan<d 140329672135664>, get value 2\n"
     ]
    }
   ],
   "source": [
    "def select_run():\n",
    "    c = ac.Chan(1, loop='no_loop', name='c')\n",
    "    d = ac.Chan(1, loop='no_loop', name='d')\n",
    "    put_chan = None\n",
    "\n",
    "    def put_cb(v, c):\n",
    "        nonlocal put_chan\n",
    "        put_chan = c\n",
    "\n",
    "    ac.select((c, 1), (d, 2), cb=put_cb)\n",
    "\n",
    "    get_val = None\n",
    "\n",
    "    def get_cb(v, c):\n",
    "        nonlocal get_val\n",
    "        get_val = v\n",
    "\n",
    "    ac.select(c, d, cb=get_cb)\n",
    "\n",
    "    print('select put into %s, get value %s' % (put_chan, get_val))\n",
    "    \n",
    "def main():\n",
    "    for _ in range(10):\n",
    "        select_run()\n",
    "        \n",
    "main()"
   ]
  }
 ],
 "metadata": {
  "kernelspec": {
   "display_name": "Python 3",
   "language": "python",
   "name": "python3"
  },
  "language_info": {
   "codemirror_mode": {
    "name": "ipython",
    "version": 3
   },
   "file_extension": ".py",
   "mimetype": "text/x-python",
   "name": "python",
   "nbconvert_exporter": "python",
   "pygments_lexer": "ipython3",
   "version": "3.6.6"
  }
 },
 "nbformat": 4,
 "nbformat_minor": 2
}
