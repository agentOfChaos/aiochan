{
 "cells": [
  {
   "cell_type": "code",
   "execution_count": 1,
   "metadata": {
    "nbsphinx": "hidden"
   },
   "outputs": [],
   "source": [
    "import sys\n",
    "sys.path.append('../')\n",
    "\n",
    "# import os\n",
    "# os.environ['PYTHONASYNCIODEBUG'] = '1'"
   ]
  },
  {
   "cell_type": "markdown",
   "metadata": {},
   "source": [
    "# Select: the quitessential operation"
   ]
  },
  {
   "cell_type": "markdown",
   "metadata": {},
   "source": [
    "Channels with their put and get operations can already be used to build rather complicated systems. Now we introduce the operation `select`, which hugely increases the expressive power of channels further."
   ]
  },
  {
   "cell_type": "markdown",
   "metadata": {},
   "source": [
    "Basically, if we have channels `c1`, `c2` and `c3` and we write"
   ]
  },
  {
   "cell_type": "markdown",
   "metadata": {},
   "source": [
    "```\n",
    "result = await select(c1, c2, c3)\n",
    "```"
   ]
  },
  {
   "cell_type": "markdown",
   "metadata": {},
   "source": [
    "then `result` will hold the result of one and only one `get` operation on `c1`, `c2` and `c3`. *Only one operation will be attempted*. If we have several operations that can be completed at the same time, only one will complete, and the non-completing ones *will not run at all*. This is in constrast with, say, `asyncio.wait`."
   ]
  },
  {
   "cell_type": "markdown",
   "metadata": {},
   "source": [
    "Let's have some examples:"
   ]
  },
  {
   "cell_type": "code",
   "execution_count": 2,
   "metadata": {},
   "outputs": [
    {
     "name": "stdout",
     "output_type": "stream",
     "text": [
      "the result is 1\n",
      "the result is from Chan<c1 140594564470264>\n",
      "c1 still has value: 2\n",
      "c1 still has value: 3\n",
      "c2 still has value: a\n",
      "c2 still has value: b\n",
      "c2 still has value: c\n",
      "c3 still has value: x\n",
      "c3 still has value: y\n",
      "c3 still has value: z\n"
     ]
    }
   ],
   "source": [
    "import asyncio\n",
    "import aiochan as ac\n",
    "\n",
    "async def main():\n",
    "    c1 = ac.Chan(name='c1').add(1, 2, 3).close()\n",
    "    c2 = ac.Chan(name='c2').add('a', 'b', 'c').close()\n",
    "    c3 = ac.Chan(name='c3').add('x', 'y', 'z').close()\n",
    "    \n",
    "    result, chan = await ac.select(c1, c2, c3)\n",
    "    print('the result is', result)\n",
    "    print('the result is from', chan)\n",
    "    \n",
    "    async for v in c1:\n",
    "        print('c1 still has value:', v)\n",
    "    \n",
    "    async for v in c2:\n",
    "        print('c2 still has value:', v)\n",
    "        \n",
    "    async for v in c3:\n",
    "        print('c3 still has value:', v)\n",
    "\n",
    "ac.run(main())"
   ]
  },
  {
   "cell_type": "markdown",
   "metadata": {},
   "source": [
    "Here we have also used some new operations on channels:\n",
    "\n",
    "* We can give names to channels: `Chan(name='some name')`,\n",
    "* `ch.add(...)` adds elements to channels on the background when it is possible to do so,\n",
    "* `close` closes the channel immediately, but all pending puts (here those by `add`) will still have an opportunity to complete,\n",
    "* `add` and `close` can be chained as both these methods return the channel."
   ]
  },
  {
   "cell_type": "markdown",
   "metadata": {},
   "source": [
    "And for our `select`:\n",
    "\n",
    "* it returns a tuple: the value together with the channel that is involved,\n",
    "* if several operations can all be completed, which one is completed is non-deterministic (try running the above script several times to see)."
   ]
  },
  {
   "cell_type": "markdown",
   "metadata": {},
   "source": [
    "Actually, it is not only get operations that can be `select`ed:"
   ]
  },
  {
   "cell_type": "code",
   "execution_count": 3,
   "metadata": {},
   "outputs": [
    {
     "name": "stdout",
     "output_type": "stream",
     "text": [
      "select completes on Chan<c2 140594564470264>\n",
      "received B on Chan<c2 140594564470264>\n"
     ]
    }
   ],
   "source": [
    "async def receive(c):\n",
    "    r = await c.get()\n",
    "    print('received', r, 'on', c)\n",
    "\n",
    "async def main():\n",
    "    c1 = ac.Chan(name='c1')\n",
    "    c2 = ac.Chan(name='c2')\n",
    "        \n",
    "    ac.go(receive(c1))\n",
    "    ac.go(receive(c2))\n",
    "    \n",
    "    await ac.nop()\n",
    "\n",
    "    result, chan = await ac.select((c1, 'A'), (c2, 'B'))\n",
    "    print('select completes on', chan)\n",
    "\n",
    "ac.run(main())"
   ]
  },
  {
   "cell_type": "markdown",
   "metadata": {},
   "source": [
    "we see that if we give an argument like `(chan, value)` it is interpreted as a put operation akin to `chan.put(value)`. Again, one and only one operation will complete. You can also mix get operations with put operations."
   ]
  },
  {
   "cell_type": "markdown",
   "metadata": {},
   "source": [
    "Also, if you are careful, you will have noticed that we have inserted a `nop` above. If it is not there, the `select` will always complete on `c1`. You may want to think about why."
   ]
  },
  {
   "cell_type": "markdown",
   "metadata": {},
   "source": [
    "The more non-trivial the application is, the more use of `select` you can find. One of its simplest use is for stopping many workers at once:"
   ]
  },
  {
   "cell_type": "code",
   "execution_count": 5,
   "metadata": {},
   "outputs": [
    {
     "name": "stdout",
     "output_type": "stream",
     "text": [
      "received worker0-1\n",
      "received worker1-1\n",
      "received worker2-1\n",
      "received worker0-2\n",
      "received worker1-2\n",
      "received worker2-2\n",
      "received worker0-3\n",
      "received worker1-3\n",
      "received worker2-3\n",
      "received worker0-4\n",
      "received worker1-4\n",
      "received worker2-4\n",
      "received worker0-5\n",
      "received worker1-5\n",
      "received worker2-5\n",
      "consumer stopped\n",
      "worker0 stopped\n",
      "worker1 stopped\n",
      "worker2 stopped\n"
     ]
    }
   ],
   "source": [
    "async def worker(out, stop, tag):\n",
    "    i = 0\n",
    "    while True:\n",
    "        i += 1\n",
    "        await asyncio.sleep(0.1)\n",
    "        result, c = await ac.select(stop, (out, '%s-%s' % (tag, i)), priority=True)\n",
    "        if c is stop:\n",
    "            print('%s stopped' % tag)\n",
    "            break\n",
    "            \n",
    "async def consumer(c, stop):\n",
    "    while True:\n",
    "        result, c = await ac.select(stop, c, priority=True)\n",
    "        if c is stop:\n",
    "            print('consumer stopped')\n",
    "            break\n",
    "        else:\n",
    "            print('received', result)\n",
    "\n",
    "async def main():\n",
    "    c = ac.Chan()\n",
    "    stop = ac.Chan()\n",
    "    for i in range(3):\n",
    "        ac.go(worker(c, stop, 'worker%s' % i))\n",
    "    ac.go(consumer(c, stop))\n",
    "    await asyncio.sleep(0.6)\n",
    "    stop.close()\n",
    "    await asyncio.sleep(0.2)\n",
    "\n",
    "ac.run(main())"
   ]
  },
  {
   "cell_type": "markdown",
   "metadata": {},
   "source": [
    "Here stopping can actually be signaled by simply closing the fan-in-fan-out channel, but in more complicated situations (for example, closing down in response to *any one* of several conditions) `select` is essential."
   ]
  },
  {
   "cell_type": "markdown",
   "metadata": {},
   "source": [
    "We have also seen that `select` takes an argument `priority`, which defaults to `False`. Here we set it to true, so when several operations become completable at the same time, it is guaranteed that the leftmost one will complete. Here we use this priority `select` to make sure that the operation stops at the earliest instance."
   ]
  },
  {
   "cell_type": "markdown",
   "metadata": {},
   "source": [
    "There is also a `default` argument to `select`, which if set, will produce the set value immediately when none of the operations can be completed immediately, with `None` in the place where you usually find the completed channel. The following snippet completes the put only if it can be done immediately:"
   ]
  },
  {
   "cell_type": "code",
   "execution_count": 6,
   "metadata": {},
   "outputs": [
    {
     "name": "stdout",
     "output_type": "stream",
     "text": [
      "giveup\n",
      "put cannot complete immediately and was given up\n"
     ]
    }
   ],
   "source": [
    "async def main():\n",
    "    ch = ac.Chan()\n",
    "    result, c = await ac.select((ch, 'value'), default='giveup')\n",
    "    if c is None:\n",
    "        print(result)\n",
    "        print('put cannot complete immediately and was given up')\n",
    "        \n",
    "ac.run(main())"
   ]
  },
  {
   "cell_type": "markdown",
   "metadata": {},
   "source": [
    "By now you should know how to use `select`. It certainly seems a simple enough operation to understand. However, `select` is non-trivial. What we mean by that is that, using only channels and put and get operations on channels, it is not possible to write a `select` clone that has the correct semantics. The semantics of `select` has three requirements:\n",
    "\n",
    "* at least one operation is completed;\n",
    "* at most one operation is completed;\n",
    "* an operation is completed at the earliest possible time (no unnecessary waiting).\n",
    "\n",
    "Writing an operation satisfying any two of the above is easy. But to satisfy all three, you need to submit your operations to the involved channels at the time of calling, and at the time of completion of any operation, you will need to notify all other operations to cancel themselves. Thus the semantics of `select` must be implemented inside `Chan`, not outside."
   ]
  },
  {
   "cell_type": "markdown",
   "metadata": {},
   "source": [
    "`select` is actually the whole point of `aiochan`: `asyncio` do provide us with futures, locks and things, which are somewhat like our channels superficially. But `select` is conspicuously missing. Channels are made to make `select` possible. Rob Pike, the inventor of golang, mentions `select` as the reason why channels in golang is provided by the language itself instead of as a library."
   ]
  },
  {
   "cell_type": "markdown",
   "metadata": {},
   "source": [
    "Another way of putting this is: in the hierarchy of concurrency operations, `select` is on the highest level of abstraction. Consider the following:\n",
    "\n",
    "* unlike python, Java was designed with concurrency (with threads) in mind, so thread primitives exist from the beginning;\n",
    "* but as working with the primitives were too low-level, `java.util.concurrent` was added as a libray;\n",
    "* Clojure runs on the JVM so can use all the Java concurrency libraries. Clojure also adds its own flavour of concurrency-friendly constructs in the form of refs (atoms, agents, and even STM)\n",
    "* BUT Clojure still needs `core.async` as a library, since writing a `select` that works well on all the previous stuff is not possible! (By the way, `select` is called `alt!`, `alts!`, `alt!!` and `alts!!` in core.async. Yes there are four of them.)"
   ]
  },
  {
   "cell_type": "markdown",
   "metadata": {},
   "source": [
    "By the way, python has a built-in library called `select`, and a higher-level one doing essentially the same thing called `selectors`. But these libraries only work with files or sockets, not plain python objects, and the availability of the various operations in theses libraries depend on the operating system. That is because the library just offloads it work to system calls. Usually we think of system calls as pretty low level. How many times have you encountered some abstraction that is provided by the lower-level operating system but not by the higher-level programming language?"
   ]
  },
  {
   "cell_type": "markdown",
   "metadata": {},
   "source": [
    "To recap:\n",
    "\n",
    "* The `select` operator completes exactly one operation from the given operations,\n",
    "* `select` can be used as a control structure,\n",
    "* `select` is non-trivial.\n",
    "\n",
    "Useful constructs:\n",
    "\n",
    "* `select`\n",
    "* `aiochan.Chan.add`\n",
    "* Channel operations can be chained (more to come)"
   ]
  }
 ],
 "metadata": {
  "kernelspec": {
   "display_name": "Python 3",
   "language": "python",
   "name": "python3"
  },
  "language_info": {
   "codemirror_mode": {
    "name": "ipython",
    "version": 3
   },
   "file_extension": ".py",
   "mimetype": "text/x-python",
   "name": "python",
   "nbconvert_exporter": "python",
   "pygments_lexer": "ipython3",
   "version": "3.6.6"
  }
 },
 "nbformat": 4,
 "nbformat_minor": 2
}
